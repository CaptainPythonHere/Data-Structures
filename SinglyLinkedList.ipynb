{
 "cells": [
  {
   "cell_type": "code",
   "execution_count": 17,
   "metadata": {},
   "outputs": [],
   "source": [
    "class Node:    \n",
    "    def __init__(self, data):\n",
    "        self.item = data\n",
    "        self.ref = None\n",
    "\n",
    "class LinkedList:\n",
    "    def __init__(self):\n",
    "        self.start_node = None\n",
    "        \n",
    "    def empty(self):\n",
    "        if self.start_node is None:\n",
    "            print(\"List is empty!\")\n",
    "            return True\n",
    "        \n",
    "    def count(self):\n",
    "        if not self.empty():\n",
    "            n = self.start_node\n",
    "            i = 1\n",
    "            while n is not None:\n",
    "                i += 1\n",
    "                n = n.ref\n",
    "            return i\n",
    "                \n",
    "    def traversal(self):\n",
    "        if self.empty():\n",
    "            return\n",
    "        else:\n",
    "            n = self.start_node\n",
    "            while n is not None:\n",
    "                print(n.item, end=\" \")\n",
    "                n = n.ref\n",
    "                \n",
    "    def search(self,element):\n",
    "        if self.empty():\n",
    "            return\n",
    "        else:\n",
    "            index = 1\n",
    "            n = self.start_node\n",
    "            while n is not None:\n",
    "                if n.item == element:\n",
    "                    print(\"Item found at index: \",index)\n",
    "                    break\n",
    "                n = n.ref\n",
    "                index += 1\n",
    "            if index:\n",
    "                print(\"Item not in list!\")\n",
    "                \n",
    "    def insert_at_end(self, data):\n",
    "        \n",
    "        new_node = Node(data)\n",
    "        \n",
    "        if self.start_node is None:\n",
    "            self.start_node = new_node\n",
    "            return\n",
    "        else:\n",
    "            n = self.start_node\n",
    "            while n.ref is not None:\n",
    "                n = n.ref\n",
    "            n.ref = new_node\n",
    "            \n",
    "    def insert_at_start(self,data):    \n",
    "        \n",
    "        new_node = Node(data)\n",
    "        new_node.ref = self.start_node\n",
    "        self.start_node = new_node\n",
    "        \n",
    "    def insert_at_pos(self,data,pos):   \n",
    "        \n",
    "        if self.empty() and pos != 1:\n",
    "            return\n",
    "        new_node = Node(data)\n",
    "        if pos==1:\n",
    "            new_node.ref = self.start_node\n",
    "            self.start_node = new_node\n",
    "            return\n",
    "        n = self.start_node\n",
    "        i=1\n",
    "        while i < pos-1 and n is not None:\n",
    "            n = n.ref\n",
    "            i = i + 1\n",
    "        if n is None:\n",
    "            print(\"Position out of range!\")\n",
    "            return\n",
    "        new_node.ref = n.ref\n",
    "        n.ref = new_node\n",
    "        \n",
    "    def insert_after_element(self,data,element):\n",
    "        \n",
    "        if self.empty():\n",
    "            return\n",
    "        new_node = Node(data)\n",
    "        n = self.start_node\n",
    "        \n",
    "        while n is not None:\n",
    "            if n.item == element:\n",
    "                break\n",
    "            n = n.ref\n",
    "        if n is None:\n",
    "            print(\"Element not in the list\")\n",
    "            return\n",
    "        new_node.ref = n.ref\n",
    "        n.ref = new_node\n",
    "            \n",
    "    def insert_before_element(self,data,element):\n",
    "        \n",
    "        if self.empty():\n",
    "            return\n",
    "        \n",
    "        new_node = Node(data)\n",
    "         \n",
    "        if self.start_node.item == element:\n",
    "            new_node.ref = self.start_node\n",
    "            self.start_node = new_node\n",
    "            return\n",
    "        \n",
    "        n = self.start_node\n",
    "        while n is not None:\n",
    "            if n.ref.item == element:\n",
    "                break\n",
    "            n = n.ref\n",
    "        if n is None:\n",
    "            print(\"Element not in the list!\")\n",
    "            return\n",
    "        new_node.ref = n.ref\n",
    "        n.ref = new_node\n",
    "        \n",
    "    def delete_position(self,pos):\n",
    "        \n",
    "        if self.empty():\n",
    "            return\n",
    "        if pos <= self.count():\n",
    "            n = self.start_node\n",
    "            i=1\n",
    "            while i != pos-1:\n",
    "                n = n.ref\n",
    "                i += 1\n",
    "            n.ref = n.ref.ref\n",
    "            del(n)\n",
    "        else:\n",
    "            print(\"Index out of range!\")\n",
    "        \n",
    "    def delete_element(self,element):\n",
    "        if self.empty():\n",
    "            return\n",
    "        n = self.start_node\n",
    "        if self.start_node.item == element:\n",
    "            self.start_node = n.ref\n",
    "            del(n)\n",
    "            return\n",
    "        while n.ref is not None:\n",
    "            if n.ref.item == element:\n",
    "                break\n",
    "            n = n.ref\n",
    "        if n.ref is None:\n",
    "            print(\"Element not in list!\")\n",
    "            return\n",
    "        n.ref = n.ref.ref\n",
    "        del(n)\n",
    "    \n",
    "    def reverse(self):\n",
    "        present = self.start_node\n",
    "        prev = None\n",
    "        while present is not None:\n",
    "            next = present.ref\n",
    "            present.ref = prev\n",
    "            prev = present\n",
    "            present = next\n",
    "        self.start_node = prev\n",
    "        "
   ]
  },
  {
   "cell_type": "code",
   "execution_count": 44,
   "metadata": {},
   "outputs": [],
   "source": [
    "sll = LinkedList()"
   ]
  },
  {
   "cell_type": "code",
   "execution_count": 45,
   "metadata": {},
   "outputs": [],
   "source": [
    "sll.insert_at_end(22)\n",
    "sll.insert_at_end(3)\n",
    "sll.insert_at_end(40)\n",
    "sll.insert_at_end(15)"
   ]
  },
  {
   "cell_type": "code",
   "execution_count": 46,
   "metadata": {},
   "outputs": [
    {
     "name": "stdout",
     "output_type": "stream",
     "text": [
      "22 3 40 15 "
     ]
    }
   ],
   "source": [
    "sll.traversal()"
   ]
  },
  {
   "cell_type": "code",
   "execution_count": 47,
   "metadata": {},
   "outputs": [
    {
     "name": "stdout",
     "output_type": "stream",
     "text": [
      "33 22 3 40 15 "
     ]
    }
   ],
   "source": [
    "sll.insert_at_start(33)\n",
    "sll.traversal()"
   ]
  },
  {
   "cell_type": "code",
   "execution_count": 48,
   "metadata": {},
   "outputs": [
    {
     "name": "stdout",
     "output_type": "stream",
     "text": [
      "33 22 3 2 40 15 "
     ]
    }
   ],
   "source": [
    "sll.insert_at_pos(2,4)\n",
    "sll.traversal()"
   ]
  },
  {
   "cell_type": "code",
   "execution_count": 49,
   "metadata": {},
   "outputs": [
    {
     "name": "stdout",
     "output_type": "stream",
     "text": [
      "Position out of range!\n"
     ]
    }
   ],
   "source": [
    "sll.insert_at_pos(72,10)"
   ]
  },
  {
   "cell_type": "code",
   "execution_count": 50,
   "metadata": {},
   "outputs": [
    {
     "name": "stdout",
     "output_type": "stream",
     "text": [
      "33 22 77 3 2 40 15 "
     ]
    }
   ],
   "source": [
    "sll.insert_after_element(77,22)\n",
    "sll.traversal()"
   ]
  },
  {
   "cell_type": "code",
   "execution_count": 51,
   "metadata": {},
   "outputs": [
    {
     "name": "stdout",
     "output_type": "stream",
     "text": [
      "33 22 77 3 9 2 40 15 "
     ]
    }
   ],
   "source": [
    "sll.insert_before_element(9,2)\n",
    "sll.traversal()"
   ]
  },
  {
   "cell_type": "code",
   "execution_count": 52,
   "metadata": {},
   "outputs": [
    {
     "name": "stdout",
     "output_type": "stream",
     "text": [
      "33 22 77 9 2 40 15 "
     ]
    }
   ],
   "source": [
    "sll.delete_element(3)\n",
    "sll.traversal()"
   ]
  },
  {
   "cell_type": "code",
   "execution_count": 53,
   "metadata": {},
   "outputs": [
    {
     "name": "stdout",
     "output_type": "stream",
     "text": [
      "33 77 9 2 40 15 "
     ]
    }
   ],
   "source": [
    "sll.delete_position(2)\n",
    "sll.traversal()"
   ]
  },
  {
   "cell_type": "code",
   "execution_count": 54,
   "metadata": {},
   "outputs": [
    {
     "name": "stdout",
     "output_type": "stream",
     "text": [
      "15 40 2 9 77 33 "
     ]
    }
   ],
   "source": [
    "sll.reverse()\n",
    "sll.traversal()"
   ]
  },
  {
   "cell_type": "code",
   "execution_count": null,
   "metadata": {},
   "outputs": [],
   "source": []
  }
 ],
 "metadata": {
  "kernelspec": {
   "display_name": "Python 3",
   "language": "python",
   "name": "python3"
  },
  "language_info": {
   "codemirror_mode": {
    "name": "ipython",
    "version": 3
   },
   "file_extension": ".py",
   "mimetype": "text/x-python",
   "name": "python",
   "nbconvert_exporter": "python",
   "pygments_lexer": "ipython3",
   "version": "3.7.1"
  }
 },
 "nbformat": 4,
 "nbformat_minor": 2
}
